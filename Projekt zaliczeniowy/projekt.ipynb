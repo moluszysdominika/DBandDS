{
 "cells": [
  {
   "cell_type": "markdown",
   "metadata": {},
   "source": [
    "# Projekt zaliczeniowy - Statystyka i Bazy Danych"
   ]
  },
  {
   "cell_type": "markdown",
   "metadata": {},
   "source": [
    "## Przygotowanie struktury bazy danych"
   ]
  },
  {
   "cell_type": "code",
   "execution_count": 1,
   "metadata": {},
   "outputs": [
    {
     "name": "stdout",
     "output_type": "stream",
     "text": [
      "      mpg  cylinders  displacement  horsepower  weight  acceleration  year  \\\n",
      "0    18.0          8         307.0       130.0  3504.0          12.0  1970   \n",
      "1    15.0          8         350.0       165.0  3693.0          11.5  1970   \n",
      "2    18.0          8         318.0       150.0  3436.0          11.0  1970   \n",
      "3    16.0          8         304.0       150.0  3433.0          12.0  1970   \n",
      "4    17.0          8         302.0       140.0  3449.0          10.5  1970   \n",
      "..    ...        ...           ...         ...     ...           ...   ...   \n",
      "393  27.0          4         140.0        86.0  2790.0          15.6  1982   \n",
      "394  44.0          4          97.0        52.0  2130.0          24.6  1982   \n",
      "395  32.0          4         135.0        84.0  2295.0          11.6  1982   \n",
      "396  28.0          4         120.0        79.0  2625.0          18.6  1982   \n",
      "397  31.0          4         119.0        82.0  2720.0          19.4  1982   \n",
      "\n",
      "     origin                       name  \n",
      "0         1  chevrolet_chevelle_malibu  \n",
      "1         1          buick_skylark_320  \n",
      "2         1         plymouth_satellite  \n",
      "3         1              amc_rebel_sst  \n",
      "4         1                ford_torino  \n",
      "..      ...                        ...  \n",
      "393       1            ford_mustang_gl  \n",
      "394       2                  vw_pickup  \n",
      "395       1              dodge_rampage  \n",
      "396       1                ford_ranger  \n",
      "397       1                 chevy_s-10  \n",
      "\n",
      "[398 rows x 9 columns]\n"
     ]
    }
   ],
   "source": [
    "import pandas as pd\n",
    "import numpy as np\n",
    "import MySQLdb\n",
    "import sqlalchemy as db\n",
    "from sqlalchemy import create_engine, text\n",
    "import scipy.stats as sc\n",
    "import statistics as st\n",
    "from statsmodels.graphics.gofplots import qqplot\n",
    "import matplotlib.pyplot as plt\n",
    "from sklearn import linear_model\n",
    "\n",
    "data = pd.read_csv(\"C:/Users/Dominika/Desktop/cars.csv\")\n",
    "\n",
    "print(data)"
   ]
  },
  {
   "cell_type": "markdown",
   "metadata": {},
   "source": [
    "## Sprawdzenie poprawności danych"
   ]
  },
  {
   "cell_type": "code",
   "execution_count": 2,
   "metadata": {},
   "outputs": [
    {
     "name": "stdout",
     "output_type": "stream",
     "text": [
      "mpg             float64\n",
      "cylinders         int64\n",
      "displacement    float64\n",
      "horsepower      float64\n",
      "weight          float64\n",
      "acceleration    float64\n",
      "year              int64\n",
      "origin            int64\n",
      "name             object\n",
      "dtype: object\n",
      "\n",
      "Index(['mpg', 'cylinders', 'displacement', 'horsepower', 'weight',\n",
      "       'acceleration', 'year', 'origin'],\n",
      "      dtype='object')\n",
      "\n",
      "Liczba brakujących wartości w kolumnach liczbowych:  mpg             0\n",
      "cylinders       0\n",
      "displacement    0\n",
      "horsepower      6\n",
      "weight          0\n",
      "acceleration    0\n",
      "year            0\n",
      "origin          0\n",
      "dtype: int64\n",
      "\n",
      "Index(['name'], dtype='object')\n",
      "\n",
      "Liczba brakujących wartości w innych kolumnach:  name    0\n",
      "dtype: int64\n"
     ]
    }
   ],
   "source": [
    "# Sprawdzenie typów danych:\n",
    "print(data.dtypes)\n",
    "print()\n",
    "\n",
    "# Kolumny zawierające dane numeryczne:\n",
    "numeric = data.iloc[:,[0,1,2,3,4,5,6,7]]\n",
    "print(numeric.columns)\n",
    "print('\\nLiczba brakujących wartości w kolumnach liczbowych: ', numeric.isna().sum())\n",
    "print()\n",
    "\n",
    "# Pozostałe kolumny:\n",
    "others = data.iloc[:,[8]]\n",
    "print(others.columns)\n",
    "print('\\nLiczba brakujących wartości w innych kolumnach: ', others.isnull().sum())"
   ]
  },
  {
   "cell_type": "markdown",
   "metadata": {},
   "source": [
    "## Połączenie z bazą danych"
   ]
  },
  {
   "cell_type": "code",
   "execution_count": 3,
   "metadata": {},
   "outputs": [],
   "source": [
    "#Połączenie za pomocą sqlalchemy\n",
    "engine = create_engine('mysql://root@localhost:3306/studia')\n",
    "connection = engine.connect()"
   ]
  },
  {
   "cell_type": "markdown",
   "metadata": {},
   "source": [
    "## Dodanie danych do bazy"
   ]
  },
  {
   "cell_type": "code",
   "execution_count": 4,
   "metadata": {},
   "outputs": [],
   "source": [
    "data.to_sql('samochody', connection, if_exists='replace')"
   ]
  },
  {
   "cell_type": "markdown",
   "metadata": {},
   "source": [
    "## Sprawdzenie działania połączenia"
   ]
  },
  {
   "cell_type": "code",
   "execution_count": 5,
   "metadata": {},
   "outputs": [
    {
     "name": "stdout",
     "output_type": "stream",
     "text": [
      "Value: ('ford_fairmont_futura',)\n",
      "Value: ('buick_century_limited',)\n",
      "Value: ('chrysler_lebaron_medallion',)\n",
      "Value: ('ford_granada_l',)\n",
      "Value: ('toyota_celica_gt',)\n"
     ]
    }
   ],
   "source": [
    "with engine.connect() as connection:\n",
    "    results = connection.execute(text(\"SELECT NAME FROM SAMOCHODY WHERE HORSEPOWER > 90 AND YEAR = 1982\"))\n",
    "    for car in results:\n",
    "        print(\"Value:\", car)"
   ]
  },
  {
   "cell_type": "markdown",
   "metadata": {},
   "source": [
    "## Pobranie danych z bazy i zapis do pliku .csv"
   ]
  },
  {
   "cell_type": "code",
   "execution_count": 6,
   "metadata": {},
   "outputs": [
    {
     "data": {
      "text/html": [
       "<div>\n",
       "<style scoped>\n",
       "    .dataframe tbody tr th:only-of-type {\n",
       "        vertical-align: middle;\n",
       "    }\n",
       "\n",
       "    .dataframe tbody tr th {\n",
       "        vertical-align: top;\n",
       "    }\n",
       "\n",
       "    .dataframe thead th {\n",
       "        text-align: right;\n",
       "    }\n",
       "</style>\n",
       "<table border=\"1\" class=\"dataframe\">\n",
       "  <thead>\n",
       "    <tr style=\"text-align: right;\">\n",
       "      <th></th>\n",
       "      <th>index</th>\n",
       "      <th>mpg</th>\n",
       "      <th>cylinders</th>\n",
       "      <th>displacement</th>\n",
       "      <th>horsepower</th>\n",
       "      <th>weight</th>\n",
       "      <th>acceleration</th>\n",
       "      <th>year</th>\n",
       "      <th>origin</th>\n",
       "      <th>name</th>\n",
       "    </tr>\n",
       "  </thead>\n",
       "  <tbody>\n",
       "    <tr>\n",
       "      <th>0</th>\n",
       "      <td>0</td>\n",
       "      <td>18.0</td>\n",
       "      <td>8</td>\n",
       "      <td>307.0</td>\n",
       "      <td>130.0</td>\n",
       "      <td>3504.0</td>\n",
       "      <td>12.0</td>\n",
       "      <td>1970</td>\n",
       "      <td>1</td>\n",
       "      <td>chevrolet_chevelle_malibu</td>\n",
       "    </tr>\n",
       "    <tr>\n",
       "      <th>1</th>\n",
       "      <td>1</td>\n",
       "      <td>15.0</td>\n",
       "      <td>8</td>\n",
       "      <td>350.0</td>\n",
       "      <td>165.0</td>\n",
       "      <td>3693.0</td>\n",
       "      <td>11.5</td>\n",
       "      <td>1970</td>\n",
       "      <td>1</td>\n",
       "      <td>buick_skylark_320</td>\n",
       "    </tr>\n",
       "    <tr>\n",
       "      <th>2</th>\n",
       "      <td>2</td>\n",
       "      <td>18.0</td>\n",
       "      <td>8</td>\n",
       "      <td>318.0</td>\n",
       "      <td>150.0</td>\n",
       "      <td>3436.0</td>\n",
       "      <td>11.0</td>\n",
       "      <td>1970</td>\n",
       "      <td>1</td>\n",
       "      <td>plymouth_satellite</td>\n",
       "    </tr>\n",
       "    <tr>\n",
       "      <th>3</th>\n",
       "      <td>3</td>\n",
       "      <td>16.0</td>\n",
       "      <td>8</td>\n",
       "      <td>304.0</td>\n",
       "      <td>150.0</td>\n",
       "      <td>3433.0</td>\n",
       "      <td>12.0</td>\n",
       "      <td>1970</td>\n",
       "      <td>1</td>\n",
       "      <td>amc_rebel_sst</td>\n",
       "    </tr>\n",
       "    <tr>\n",
       "      <th>4</th>\n",
       "      <td>4</td>\n",
       "      <td>17.0</td>\n",
       "      <td>8</td>\n",
       "      <td>302.0</td>\n",
       "      <td>140.0</td>\n",
       "      <td>3449.0</td>\n",
       "      <td>10.5</td>\n",
       "      <td>1970</td>\n",
       "      <td>1</td>\n",
       "      <td>ford_torino</td>\n",
       "    </tr>\n",
       "  </tbody>\n",
       "</table>\n",
       "</div>"
      ],
      "text/plain": [
       "   index   mpg  cylinders  displacement  horsepower  weight  acceleration  \\\n",
       "0      0  18.0          8         307.0       130.0  3504.0          12.0   \n",
       "1      1  15.0          8         350.0       165.0  3693.0          11.5   \n",
       "2      2  18.0          8         318.0       150.0  3436.0          11.0   \n",
       "3      3  16.0          8         304.0       150.0  3433.0          12.0   \n",
       "4      4  17.0          8         302.0       140.0  3449.0          10.5   \n",
       "\n",
       "   year  origin                       name  \n",
       "0  1970       1  chevrolet_chevelle_malibu  \n",
       "1  1970       1          buick_skylark_320  \n",
       "2  1970       1         plymouth_satellite  \n",
       "3  1970       1              amc_rebel_sst  \n",
       "4  1970       1                ford_torino  "
      ]
     },
     "execution_count": 6,
     "metadata": {},
     "output_type": "execute_result"
    }
   ],
   "source": [
    "with engine.connect() as connection:\n",
    "    query = \"SELECT * FROM samochody\"\n",
    "    output = pd.read_sql_query(query, connection)\n",
    "    output.to_csv(\"C:/Users/Dominika/Desktop/samochody.csv\", index=False)\n",
    "    \n",
    "data1 = pd.read_csv(\"C:/Users/Dominika/Desktop/samochody.csv\")\n",
    "data1.head()"
   ]
  },
  {
   "cell_type": "markdown",
   "metadata": {},
   "source": [
    "## Statystyka opisowa"
   ]
  },
  {
   "cell_type": "code",
   "execution_count": 7,
   "metadata": {},
   "outputs": [
    {
     "name": "stdout",
     "output_type": "stream",
     "text": [
      "Statystyki opisowe dla mpg:\n",
      "\n",
      "Wartość maksymalna =  46.6\n",
      "Wartość minimalna =  9.0\n",
      "Wartość średnia =  23.514572864321615\n",
      "Mediana =  23.0\n",
      "Odchylenie standardowe =  7.8159843125657815\n",
      "Wariancja =  61.08961077427439\n",
      "Górna mediana =  23.0\n",
      "Dolna mediana =  23.0\n",
      "Kurtoza =  -0.5194245405990445\n",
      "Skośność =  0.45534192556309266\n",
      "\n",
      "Statystyki opisowe dla displacement:\n",
      "\n",
      "Wartość maksymalna =  455.0\n",
      "Wartość minimalna =  68.0\n",
      "Wartość średnia =  193.42587939698493\n",
      "Mediana =  148.5\n",
      "Odchylenie standardowe =  104.26983817119591\n",
      "Wariancja =  10872.199152247384\n",
      "Górna mediana =  151.0\n",
      "Dolna mediana =  146.0\n",
      "Kurtoza =  -0.7522878026396289\n",
      "Skośność =  0.716930089340474\n",
      "\n",
      "Statystyki opisowe dla acceleration:\n",
      "\n",
      "Wartość maksymalna =  24.8\n",
      "Wartość minimalna =  8.0\n",
      "Wartość średnia =  15.568090452261291\n",
      "Mediana =  15.5\n",
      "Odchylenie standardowe =  2.7576889298126757\n",
      "Wariancja =  7.604848233611381\n",
      "Górna mediana =  15.5\n",
      "Dolna mediana =  15.5\n",
      "Kurtoza =  0.3992077323931644\n",
      "Skośność =  0.27772507624356363\n",
      "\n",
      "Statystyki opisowe dla for weight:\n",
      "\n",
      "Wartość maksymalna =  5140.0\n",
      "Wartość minimalna =  1613.0\n",
      "Wartość średnia =  2970.424623115578\n",
      "Mediana =  2803.5\n",
      "Odchylenie standardowe =  846.8417741973268\n",
      "Wariancja =  717140.9905256763\n",
      "Górna mediana =  2807.0\n",
      "Dolna mediana =  2800.0\n",
      "Kurtoza =  -0.7907326965772179\n",
      "Skośność =  0.5290589216608383\n"
     ]
    }
   ],
   "source": [
    "def desc_statistics(column):\n",
    "    print('Wartość maksymalna = ', np.max(column))\n",
    "    print('Wartość minimalna = ', np.min(column))\n",
    "    print('Wartość średnia = ', np.mean(column))\n",
    "    print('Mediana = ', np.median(column))\n",
    "    print('Odchylenie standardowe = ', st.stdev(column))\n",
    "    print('Wariancja = ', st.variance(column))\n",
    "    print('Górna mediana = ', st.median_high(column))\n",
    "    print('Dolna mediana = ', st.median_low(column))    \n",
    "    print('Kurtoza = ', sc.kurtosis(column))\n",
    "    print('Skośność = ', sc.skew(column))\n",
    "    \n",
    "\n",
    "print('Statystyki opisowe dla mpg:')\n",
    "print()\n",
    "desc_statistics(data.mpg)\n",
    "print()\n",
    "print('Statystyki opisowe dla displacement:') \n",
    "print()\n",
    "desc_statistics(data.displacement)\n",
    "print()\n",
    "print('Statystyki opisowe dla acceleration:')\n",
    "print()\n",
    "desc_statistics(data.acceleration)\n",
    "print()\n",
    "print('Statystyki opisowe dla for weight:')\n",
    "print()\n",
    "desc_statistics(data.weight)"
   ]
  },
  {
   "cell_type": "markdown",
   "metadata": {},
   "source": [
    "## Testowanie hipotez statystycznych"
   ]
  },
  {
   "cell_type": "code",
   "execution_count": 8,
   "metadata": {},
   "outputs": [
    {
     "data": {
      "image/png": "[encoded data removed]",
      "text/plain": [
       "<Figure size 432x288 with 1 Axes>"
      ]
     },
     "metadata": {
      "needs_background": "light"
     },
     "output_type": "display_data"
    }
   ],
   "source": [
    "# 1. Badanie normalności rozkładu\n",
    "\n",
    "# Graficzne badanie normalności rozkładu\n",
    "\n",
    "plt.hist(data.acceleration)\n",
    "plt.show()"
   ]
  },
  {
   "cell_type": "code",
   "execution_count": 9,
   "metadata": {},
   "outputs": [
    {
     "data": {
      "image/png": "[encoded data removed]",
      "text/plain": [
       "<Figure size 432x288 with 1 Axes>"
      ]
     },
     "metadata": {
      "needs_background": "light"
     },
     "output_type": "display_data"
    }
   ],
   "source": [
    "# Graficzne badanie normalności rozkładu\n",
    "\n",
    "qqplot(data.acceleration, line='s')\n",
    "plt.show()"
   ]
  },
  {
   "cell_type": "code",
   "execution_count": 10,
   "metadata": {},
   "outputs": [
    {
     "name": "stdout",
     "output_type": "stream",
     "text": [
      "stat=0.992, p=0.040\n",
      "Dane nie mają rozkładu Gaussa\n"
     ]
    }
   ],
   "source": [
    "# Badanie normalności rozkładu - Shapiro-Wilk Normality Test\n",
    "from scipy.stats import shapiro\n",
    "\n",
    "stat, p = shapiro(data.acceleration)\n",
    "print('stat=%.3f, p=%.3f' % (stat, p))\n",
    "\n",
    "if p > 0.05:\n",
    "    print('Dane mają rozkład Gaussa')\n",
    "else:\n",
    "    print('Dane nie mają rozkładu Gaussa')"
   ]
  },
  {
   "cell_type": "code",
   "execution_count": 11,
   "metadata": {},
   "outputs": [
    {
     "name": "stdout",
     "output_type": "stream",
     "text": [
      "stat=7.628, p=0.022\n",
      "Rozkład różni się od normalnego\n"
     ]
    }
   ],
   "source": [
    "# Badanie normalności rozkładu - D'Agostino test\n",
    "from scipy.stats import normaltest\n",
    "\n",
    "stat, p = normaltest(data.acceleration)\n",
    "print('stat=%.3f, p=%.3f' % (stat, p))\n",
    "\n",
    "alpha = 0.05\n",
    "if p > alpha:\n",
    "    print('Prawdopodobnie rozkład jest normalny')\n",
    "else:\n",
    "    print('Rozkład różni się od normalnego')"
   ]
  },
  {
   "cell_type": "code",
   "execution_count": 12,
   "metadata": {},
   "outputs": [
    {
     "name": "stdout",
     "output_type": "stream",
     "text": [
      "stat=0.809\n",
      "Prawdopodobieństwo nie-Gaussa na poziomie 15.0%\n",
      "Prawdopodobieństwo nie-Gaussa na poziomie 10.0%\n",
      "Prawdopodobieństwo nie-Gaussa na poziomie 5.0%\n",
      "Prawdopodobieństwo Gaussa na poziomie 2.5%\n",
      "Prawdopodobieństwo Gaussa na poziomie 1.0%\n"
     ]
    }
   ],
   "source": [
    "# Badanie normalności rozkładu - Anderson-Darling Normality Test\n",
    "from scipy.stats import anderson\n",
    "\n",
    "result = anderson(data.acceleration)\n",
    "print('stat=%.3f' % (result.statistic))\n",
    "\n",
    "for i in range(len(result.critical_values)):\n",
    "    sl, cv = result.significance_level[i], result.critical_values[i]\n",
    "    if result.statistic < cv:\n",
    "        print('Prawdopodobieństwo Gaussa na poziomie %.1f%%' % (sl))\n",
    "    else:\n",
    "        print('Prawdopodobieństwo nie-Gaussa na poziomie %.1f%%' % (sl))"
   ]
  },
  {
   "cell_type": "code",
   "execution_count": 13,
   "metadata": {},
   "outputs": [
    {
     "name": "stdout",
     "output_type": "stream",
     "text": [
      "stat=-0.544, p=0.000\n",
      "Istnieje zależność między danymi\n"
     ]
    }
   ],
   "source": [
    "# Badanie współczynnika korelacji Pearsona\n",
    "from scipy.stats import pearsonr\n",
    "\n",
    "stat, p = pearsonr(data.displacement, data.acceleration)\n",
    "print('stat=%.3f, p=%.3f' % (stat, p))\n",
    "\n",
    "if p > 0.05:\n",
    "    print('Dane są niezależne')\n",
    "else:\n",
    "    print('Istnieje zależność między danymi')"
   ]
  },
  {
   "cell_type": "code",
   "execution_count": 14,
   "metadata": {},
   "outputs": [
    {
     "name": "stdout",
     "output_type": "stream",
     "text": [
      "stat=-0.497, p=0.000\n",
      "Istnieje zależność między danymi\n"
     ]
    }
   ],
   "source": [
    "# Badanie współczynnika korelacji Spearman's Rank\n",
    "from scipy.stats import spearmanr\n",
    "\n",
    "stat, p = spearmanr(data.displacement, data.acceleration)\n",
    "print('stat=%.3f, p=%.3f' % (stat, p))\n",
    "\n",
    "if p > 0.05:\n",
    "    print('Dane są niezależne')\n",
    "else:\n",
    "    print('Istnieje zależność między danymi')"
   ]
  },
  {
   "cell_type": "code",
   "execution_count": 15,
   "metadata": {},
   "outputs": [
    {
     "name": "stdout",
     "output_type": "stream",
     "text": [
      "stat=-0.352, p=0.000\n",
      "Istnieje zależność między danymi\n"
     ]
    }
   ],
   "source": [
    "# Badanie współczynnika korelacji Kendall's Rank\n",
    "from scipy.stats import kendalltau\n",
    "\n",
    "stat, p = kendalltau(data.displacement, data.acceleration)\n",
    "print('stat=%.3f, p=%.3f' % (stat, p))\n",
    "\n",
    "if p > 0.05:\n",
    "    print('Dane są niezależne')\n",
    "else:\n",
    "    print('Istnieje zależność między danymi')"
   ]
  },
  {
   "cell_type": "code",
   "execution_count": 16,
   "metadata": {},
   "outputs": [
    {
     "name": "stdout",
     "output_type": "stream",
     "text": [
      "stat=34.018, p=0.000\n",
      "Średnie danych nie są równe\n"
     ]
    }
   ],
   "source": [
    "# Rozkład t-Studenta\n",
    "from scipy.stats import ttest_ind\n",
    "\n",
    "stat, p = ttest_ind(data.displacement, data.acceleration)\n",
    "print('stat=%.3f, p=%.3f' % (stat, p))\n",
    "\n",
    "if p > 0.05:\n",
    "    print('Średnie danych są równe')\n",
    "else:\n",
    "    print('Średnie danych nie są równe')"
   ]
  },
  {
   "cell_type": "code",
   "execution_count": 17,
   "metadata": {},
   "outputs": [
    {
     "name": "stdout",
     "output_type": "stream",
     "text": [
      "stat=33.539, p=0.000\n",
      "Średnie danych nie są równe\n"
     ]
    }
   ],
   "source": [
    "# Sparowany rozkład t-Studenta\n",
    "from scipy.stats import ttest_rel\n",
    "\n",
    "stat, p = ttest_rel(data.displacement, data.acceleration)\n",
    "print('stat=%.3f, p=%.3f' % (stat, p))\n",
    "\n",
    "if p > 0.05:\n",
    "    print('Średnie danych są równe')\n",
    "else:\n",
    "    print('Średnie danych nie są równe')"
   ]
  },
  {
   "cell_type": "code",
   "execution_count": 18,
   "metadata": {},
   "outputs": [
    {
     "name": "stdout",
     "output_type": "stream",
     "text": [
      "Statistics=1101.620, p=0.000\n",
      "Wariancje są różne\n"
     ]
    }
   ],
   "source": [
    "# Analiza równości wariancji - ANOVA test\n",
    "from scipy.stats import f_oneway\n",
    "\n",
    "stat, p = f_oneway(data.mpg, data.displacement, data.acceleration)\n",
    "print('Statistics=%.3f, p=%.3f' % (stat, p))\n",
    "\n",
    "alpha = 0.05\n",
    "if p > alpha:\n",
    "    print('Wszystkie wariancje są równe')\n",
    "else:\n",
    "    print('Wariancje są różne')"
   ]
  },
  {
   "cell_type": "code",
   "execution_count": 19,
   "metadata": {},
   "outputs": [
    {
     "name": "stdout",
     "output_type": "stream",
     "text": [
      "stat=596.371, p=0.000\n",
      "Rozłady nie są równe\n"
     ]
    }
   ],
   "source": [
    "# Test równości rozkładów - Kruskal-Wallis H Test\n",
    "from scipy.stats import kruskal\n",
    "\n",
    "stat, p = kruskal(data.displacement, data.acceleration)\n",
    "print('stat=%.3f, p=%.3f' % (stat, p))\n",
    "\n",
    "if p > 0.05:\n",
    "    print('Rozkłady są równe')\n",
    "else:\n",
    "    print('Rozłady nie są równe')"
   ]
  },
  {
   "cell_type": "code",
   "execution_count": 20,
   "metadata": {},
   "outputs": [
    {
     "name": "stdout",
     "output_type": "stream",
     "text": [
      "stat=726.096, p=0.000\n",
      "Rozkłady nie są równe\n"
     ]
    }
   ],
   "source": [
    "# Test równości rozkładów - Friedman Test\n",
    "from scipy.stats import friedmanchisquare\n",
    "\n",
    "stat, p = friedmanchisquare(data.mpg, data.displacement, data.acceleration)\n",
    "print('stat=%.3f, p=%.3f' % (stat, p))\n",
    "\n",
    "if p > 0.05:\n",
    "    print('Rozkłady są równe')\n",
    "else:\n",
    "    print('Rozkłady nie są równe')"
   ]
  },
  {
   "cell_type": "markdown",
   "metadata": {},
   "source": [
    "## Regresja liniowa"
   ]
  },
  {
   "cell_type": "code",
   "execution_count": 21,
   "metadata": {},
   "outputs": [
    {
     "data": {
      "text/plain": [
       "Index(['mpg', 'cylinders', 'displacement', 'horsepower', 'weight',\n",
       "       'acceleration', 'year', 'origin', 'name'],\n",
       "      dtype='object')"
      ]
     },
     "execution_count": 21,
     "metadata": {},
     "output_type": "execute_result"
    }
   ],
   "source": [
    "data.columns"
   ]
  },
  {
   "cell_type": "code",
   "execution_count": 22,
   "metadata": {},
   "outputs": [
    {
     "data": {
      "text/html": [
       "<div>\n",
       "<style scoped>\n",
       "    .dataframe tbody tr th:only-of-type {\n",
       "        vertical-align: middle;\n",
       "    }\n",
       "\n",
       "    .dataframe tbody tr th {\n",
       "        vertical-align: top;\n",
       "    }\n",
       "\n",
       "    .dataframe thead th {\n",
       "        text-align: right;\n",
       "    }\n",
       "</style>\n",
       "<table border=\"1\" class=\"dataframe\">\n",
       "  <thead>\n",
       "    <tr style=\"text-align: right;\">\n",
       "      <th></th>\n",
       "      <th>mpg</th>\n",
       "      <th>cylinders</th>\n",
       "      <th>displacement</th>\n",
       "      <th>horsepower</th>\n",
       "      <th>weight</th>\n",
       "      <th>acceleration</th>\n",
       "      <th>year</th>\n",
       "      <th>origin</th>\n",
       "      <th>name</th>\n",
       "    </tr>\n",
       "  </thead>\n",
       "  <tbody>\n",
       "    <tr>\n",
       "      <th>0</th>\n",
       "      <td>18.0</td>\n",
       "      <td>8</td>\n",
       "      <td>307.0</td>\n",
       "      <td>130.0</td>\n",
       "      <td>3504.0</td>\n",
       "      <td>12.0</td>\n",
       "      <td>1970</td>\n",
       "      <td>1</td>\n",
       "      <td>chevrolet_chevelle_malibu</td>\n",
       "    </tr>\n",
       "    <tr>\n",
       "      <th>1</th>\n",
       "      <td>15.0</td>\n",
       "      <td>8</td>\n",
       "      <td>350.0</td>\n",
       "      <td>165.0</td>\n",
       "      <td>3693.0</td>\n",
       "      <td>11.5</td>\n",
       "      <td>1970</td>\n",
       "      <td>1</td>\n",
       "      <td>buick_skylark_320</td>\n",
       "    </tr>\n",
       "    <tr>\n",
       "      <th>2</th>\n",
       "      <td>18.0</td>\n",
       "      <td>8</td>\n",
       "      <td>318.0</td>\n",
       "      <td>150.0</td>\n",
       "      <td>3436.0</td>\n",
       "      <td>11.0</td>\n",
       "      <td>1970</td>\n",
       "      <td>1</td>\n",
       "      <td>plymouth_satellite</td>\n",
       "    </tr>\n",
       "    <tr>\n",
       "      <th>3</th>\n",
       "      <td>16.0</td>\n",
       "      <td>8</td>\n",
       "      <td>304.0</td>\n",
       "      <td>150.0</td>\n",
       "      <td>3433.0</td>\n",
       "      <td>12.0</td>\n",
       "      <td>1970</td>\n",
       "      <td>1</td>\n",
       "      <td>amc_rebel_sst</td>\n",
       "    </tr>\n",
       "    <tr>\n",
       "      <th>4</th>\n",
       "      <td>17.0</td>\n",
       "      <td>8</td>\n",
       "      <td>302.0</td>\n",
       "      <td>140.0</td>\n",
       "      <td>3449.0</td>\n",
       "      <td>10.5</td>\n",
       "      <td>1970</td>\n",
       "      <td>1</td>\n",
       "      <td>ford_torino</td>\n",
       "    </tr>\n",
       "  </tbody>\n",
       "</table>\n",
       "</div>"
      ],
      "text/plain": [
       "    mpg  cylinders  displacement  horsepower  weight  acceleration  year  \\\n",
       "0  18.0          8         307.0       130.0  3504.0          12.0  1970   \n",
       "1  15.0          8         350.0       165.0  3693.0          11.5  1970   \n",
       "2  18.0          8         318.0       150.0  3436.0          11.0  1970   \n",
       "3  16.0          8         304.0       150.0  3433.0          12.0  1970   \n",
       "4  17.0          8         302.0       140.0  3449.0          10.5  1970   \n",
       "\n",
       "   origin                       name  \n",
       "0       1  chevrolet_chevelle_malibu  \n",
       "1       1          buick_skylark_320  \n",
       "2       1         plymouth_satellite  \n",
       "3       1              amc_rebel_sst  \n",
       "4       1                ford_torino  "
      ]
     },
     "execution_count": 22,
     "metadata": {},
     "output_type": "execute_result"
    }
   ],
   "source": [
    "data.head()"
   ]
  },
  {
   "cell_type": "code",
   "execution_count": 23,
   "metadata": {},
   "outputs": [
    {
     "data": {
      "image/png": "[encoded data removed]",
      "text/plain": [
       "<Figure size 432x288 with 1 Axes>"
      ]
     },
     "metadata": {
      "needs_background": "light"
     },
     "output_type": "display_data"
    }
   ],
   "source": [
    "X = data['horsepower']\n",
    "y = data['acceleration']\n",
    "plt.scatter(X,y, color = \"m\")\n",
    "plt.show()"
   ]
  },
  {
   "cell_type": "code",
   "execution_count": 24,
   "metadata": {},
   "outputs": [
    {
     "data": {
      "image/png": "[encoded data removed]",
      "text/plain": [
       "<Figure size 432x288 with 1 Axes>"
      ]
     },
     "metadata": {
      "needs_background": "light"
     },
     "output_type": "display_data"
    }
   ],
   "source": [
    "mask = ~np.isnan(X) & ~np.isnan(y)\n",
    "slope, intercept, r, p, std_err = sc.linregress(X[mask],y[mask])\n",
    "def myfunc(x):\n",
    "    return slope * x + intercept\n",
    "\n",
    "mymodel = list(map(myfunc,X))\n",
    "plt.scatter(X,y, color = \"m\")\n",
    "plt.plot(X, mymodel)\n",
    "plt.show()"
   ]
  }
 ],
 "metadata": {
  "kernelspec": {
   "display_name": "Python 3",
   "language": "python",
   "name": "python3"
  },
  "language_info": {
   "codemirror_mode": {
    "name": "ipython",
    "version": 3
   },
   "file_extension": ".py",
   "mimetype": "text/x-python",
   "name": "python",
   "nbconvert_exporter": "python",
   "pygments_lexer": "ipython3",
   "version": "3.7.6"
  }
 },
 "nbformat": 4,
 "nbformat_minor": 4
}
